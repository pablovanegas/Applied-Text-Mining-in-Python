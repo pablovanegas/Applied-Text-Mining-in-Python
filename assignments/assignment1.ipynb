{
 "cells": [
  {
   "cell_type": "markdown",
   "metadata": {
    "deletable": false,
    "editable": false,
    "nbgrader": {
     "cell_type": "markdown",
     "checksum": "cacf7f4360d6d53c622742f64048f72c",
     "grade": false,
     "grade_id": "cell-8a754c8ce8a16eeb",
     "locked": true,
     "schema_version": 3,
     "solution": false,
     "task": false
    }
   },
   "source": [
    "# Assignment 1\n",
    "\n",
    "In this assignment, you'll be working with messy medical data and using regex to extract relevant infromation from the data. \n",
    "\n",
    "Each line of the `datess.txt` file corresponds to a medical note. Each note has a date that needs to be extracted, but each date is encoded in one of many formats.\n",
    "\n",
    "The goal of this assignment is to correctly identify all of the different date variants encoded in this dataset and to properly normalize and sort the dates. \n",
    "\n",
    "Here is a list of some of the variants you might encounter in this dataset:\n",
    "* 04/20/2009; 04/20/09; 4/20/09; 4/3/09\n",
    "* Mar-20-2009; Mar 20, 2009; March 20, 2009;  Mar. 20, 2009; Mar 20 2009;\n",
    "* 20 Mar 2009; 20 March 2009; 20 Mar. 2009; 20 March, 2009\n",
    "* Mar 20th, 2009; Mar 21st, 2009; Mar 22nd, 2009\n",
    "* Feb 2009; Sep 2009; Oct 2010\n",
    "* 6/2008; 12/2009\n",
    "* 2009; 2010\n",
    "\n",
    "Once you have extracted these date patterns from the text, the next step is to sort them in ascending chronological order accoring to the following rules:\n",
    "* Assume all dates in xx/xx/xx format are mm/dd/yy\n",
    "* Assume all dates where year is encoded in only two digits are years from the 1900's (e.g. 1/5/89 is January 5th, 1989)\n",
    "* If the day is missing (e.g. 9/2009), assume it is the first day of the month (e.g. September 1, 2009).\n",
    "* If the month is missing (e.g. 2010), assume it is the first of January of that year (e.g. January 1, 2010).\n",
    "* Watch out for potential typos as this is a raw, real-life derived dataset.\n",
    "\n",
    "With these rules in mind, find the correct date in each note and return a pandas Series in chronological order of the original Series' indices. **This Series should be sorted by a tie-break sort in the format of (\"extracted date\", \"original row number\").**\n",
    "\n",
    "For example if the original series was this:\n",
    "\n",
    "    0    1999\n",
    "    1    2010\n",
    "    2    1978\n",
    "    3    2015\n",
    "    4    1985\n",
    "\n",
    "Your function should return this:\n",
    "\n",
    "    0    2\n",
    "    1    4\n",
    "    2    0\n",
    "    3    1\n",
    "    4    3\n",
    "\n",
    "Your score will be calculated using [Kendall's tau](https://en.wikipedia.org/wiki/Kendall_rank_correlation_coefficient), a correlation measure for ordinal data.\n",
    "\n",
    "*This function should return a Series of length 500 and dtype int.*"
   ]
  },
  {
   "cell_type": "code",
   "execution_count": 3,
   "metadata": {
    "deletable": false,
    "editable": false,
    "nbgrader": {
     "cell_type": "code",
     "checksum": "4b47ce38a503bfb1f113580f394d8667",
     "grade": false,
     "grade_id": "cell-28048f36edc32946",
     "locked": true,
     "schema_version": 3,
     "solution": false,
     "task": false
    }
   },
   "outputs": [],
   "source": [
    "import pandas as pd\n",
    "\n",
    "\n",
    "doc = []\n",
    "with open('assets/dates.txt') as file:\n",
    "    for line in file:\n",
    "        doc.append(line)\n",
    "df = pd.Series(doc)\n",
    "\n"
   ]
  },
  {
   "cell_type": "code",
   "execution_count": 68,
   "metadata": {
    "deletable": false,
    "nbgrader": {
     "cell_type": "code",
     "checksum": "3e58e227860ae4b02d6bdddd81506787",
     "grade": false,
     "grade_id": "cell-d6f35a51303ed6ff",
     "locked": false,
     "schema_version": 3,
     "solution": true,
     "task": false
    }
   },
   "outputs": [
    {
     "data": {
      "text/plain": [
       "0      336\n",
       "1      326\n",
       "2      343\n",
       "3      296\n",
       "4      301\n",
       "      ... \n",
       "495    495\n",
       "496    496\n",
       "497    497\n",
       "498    498\n",
       "499    499\n",
       "Name: index, Length: 500, dtype: int64"
      ]
     },
     "execution_count": 68,
     "metadata": {},
     "output_type": "execute_result"
    }
   ],
   "source": [
    "def date_sorter():\n",
    "    import re\n",
    "    from datetime import datetime\n",
    "    from calendar import month_name\n",
    "    import dateutil.parser\n",
    "    df = pd.DataFrame(doc, columns=['text'])\n",
    "    df['text'] = df['text'].apply(lambda x: x.strip('\\n'))\n",
    "    pattern = \"[,.]? \\d{4}|\".join(month_name[1:]) + \"[,.]? \\d{4}\"\n",
    "  \n",
    "    # data variants in the order of likelihood \n",
    "    date_formats = [\n",
    "        r'\\d{1,2}[/-]\\d{1,2}[/-]\\d{4}',\n",
    "        r'\\d{1,2}/\\d{1,2}/\\d{2}',\n",
    "        r'\\d{1,2}-\\d{1,2}-\\d{2}',\n",
    "        r'\\d{1,2}\\s(Jan|Feb|Mar|Apr|May|Jun|Jul|Aug|Sep|Oct|Nov|Dec)[a-z]*.?\\s\\d{4}',\n",
    "        r'(Jan|Feb|Mar|Apr|May|Jun|Jul|Aug|Sep|Oct|Nov|Dec)[a-z]*.?\\s\\d{2},?\\s\\d{4}',\n",
    "        r'(Jan|Feb|Mar|Apr|May|Jun|Jul|Aug|Sep|Oct|Nov|Dec)[a-z]*,?\\s\\d{4}'\n",
    "        r'\\d{1,2}\\/\\d{1,2}\\/\\d{2,4}|\\d{1,2}\\-\\d{1,2}\\-\\d{2,4}|[A-Z][a-z]+\\-\\d{1,2}\\-\\d{4}|[A-Z][a-z]+[,.]? \\d{2}[a-z]*,? \\d{4}|\\d{1,2} [A-Z][a-z,.]+ \\d{4}|[A-Z][a-z]{2}[,.]? \\d{4}|'+pattern+r'|\\d{1,2}\\/\\d{4}|\\d{4}',\n",
    "        r'\\d{1,2}/\\d{4}',\n",
    "        r'\\d{1,2}-\\d{4}'\n",
    "        r'[1,2]\\d{3}'\n",
    "    ]\n",
    "    dates = []\n",
    "    for line in df['text']:\n",
    "        for date_format in date_formats:\n",
    "            matches = re.findall(date_format, line)\n",
    "            dates.extend(matches)\n",
    "    dates = [date for date in dates if date != []]\n",
    "    dates_list = list(dates)\n",
    "    parsed_dates = []\n",
    "    for year in dates_list:\n",
    "        try:\n",
    "            if re.match(r'\\d{4}', year):\n",
    "                parsed_date = datetime.strptime('January 1, ' + year, \"%B %d, %Y\")\n",
    "            elif re.match(r'\\d{1,2}\\/\\d{4}', year):\n",
    "                date_split = year.split('/')\n",
    "                parsed_date = datetime.strptime(f'{date_split[0]}/1/{date_split[1]}', \"%m/%d/%Y\")\n",
    "            elif re.match(r'[A-Z][a-z]+[,.]? \\d{4}', year):\n",
    "                date_split = year.split(' ')\n",
    "                parsed_date = datetime.strptime(f'{date_split[0]} 1 {date_split[1]}', \"%B %d, %Y\")\n",
    "            else:\n",
    "                parsed_date = dateutil.parser.parse(year)\n",
    "\n",
    "\n",
    "            parsed_dates.append(parsed_date)\n",
    "        except (ValueError, OverflowError):\n",
    "            continue\n",
    "    df['parsed_dates'] = pd.Series(parsed_dates)\n",
    "    df = df.sort_values(by='parsed_dates')\n",
    "    df = df.reset_index()\n",
    "    return pd.Series(df['index'])\n",
    "\n",
    "   \n",
    "            \n",
    "        \n",
    "date_sorter()"
   ]
  },
  {
   "cell_type": "code",
   "execution_count": 6,
   "metadata": {},
   "outputs": [
    {
     "data": {
      "text/plain": [
       "0      222\n",
       "1      212\n",
       "2      229\n",
       "3      182\n",
       "4      187\n",
       "      ... \n",
       "495    495\n",
       "496    496\n",
       "497    497\n",
       "498    498\n",
       "499    499\n",
       "Name: index, Length: 500, dtype: int64"
      ]
     },
     "execution_count": 6,
     "metadata": {},
     "output_type": "execute_result"
    }
   ],
   "source": [
    "\n",
    "\n",
    "def date_sorter():\n",
    "    import re\n",
    "    from datetime import datetime\n",
    "    from calendar import month_name\n",
    "    import dateutil.parser\n",
    "    df = pd.DataFrame(doc, columns=['text'])\n",
    "    df['text'] = df['text'].apply(lambda x: x.strip('\\n'))\n",
    "\n",
    "    pattern = \"[,.]? \\d{4}|\".join(month_name[1:]) + \"[,.]? \\d{4}\"\n",
    "\n",
    "    date_formats = [\n",
    "        r'\\d{1,2}[/-]\\d{1,2}[/-]\\d{4}',\n",
    "        r'\\d{1,2}/\\d{1,2}/\\d{2}',\n",
    "        r'\\d{1,2}-\\d{1,2}-\\d{2,4}',\n",
    "        r'\\d{1,2}\\s(Jan|Feb|Mar|Apr|May|Jun|Jul|Aug|Sep|Oct|Nov|Dec)[a-z]*.?\\s\\d{4}',\n",
    "        r'(Jan|Feb|Mar|Apr|May|Jun|Jul|Aug|Sep|Oct|Nov|Dec)[a-z]*.?\\s\\d{2},?\\s\\d{4}',\n",
    "        r'(Jan|Feb|Mar|Apr|May|Jun|Jul|Aug|Sep|Oct|Nov|Dec)[a-z]*,?\\s\\d{4}'\n",
    "        r'\\d{1,2}\\/\\d{1,2}\\/\\d{2,4}|\\d{1,2}\\-\\d{1,2}\\-\\d{2,4}|[A-Z][a-z]+\\-\\d{1,2}\\-\\d{4}|[A-Z][a-z]+[,.]? \\d{2}[a-z]*,? \\d{4}|\\d{1,2} [A-Z][a-z,.]+ \\d{4}|[A-Z][a-z]{2}[,.]? \\d{4}|'+pattern+r'|\\d{1,2}\\/\\d{4}|\\d{4}',\n",
    "        r'\\d{1,2}/\\d{4}',\n",
    "        r'\\d{1,2}-\\d{4}'\n",
    "        r'[1,2]\\d{3}'\n",
    "    ]\n",
    "\n",
    "    dates = []\n",
    "    for line in df['text']:\n",
    "        for date_format in date_formats:\n",
    "            matches = re.findall(date_format, line)\n",
    "            dates.extend(matches)\n",
    "\n",
    "    dates = [date for date in dates if date != []]\n",
    "    dates_list = list(dates)\n",
    "\n",
    "    parsed_dates = []\n",
    "    for year in dates_list:\n",
    "        try:\n",
    "            if re.match(r'\\d{4}', year):\n",
    "                parsed_date = datetime.strptime('January 1, ' + year, \"%B %d, %Y\")\n",
    "            elif re.match(r'\\d{1,2}\\/\\d{4}', year):\n",
    "                date_split = year.split('/')\n",
    "                parsed_date = datetime.strptime(f'{date_split[0]}/1/{date_split[1]}', \"%m/%d/%Y\")\n",
    "            elif re.match(r'[A-Z][a-z]+[,.]? \\d{4}', year):\n",
    "                date_split = year.split(' ')\n",
    "                parsed_date = datetime.strptime(f'{date_split[0]} 1 {date_split[1]}', \"%B %d, %Y\")\n",
    "            else:\n",
    "                parsed_date = dateutil.parser.parse(year)\n",
    "\n",
    "            if parsed_date.year < 1900 or parsed_date.year > 2022:\n",
    "                raise ValueError(\"Invalid year\")\n",
    "\n",
    "            parsed_dates.append(parsed_date)\n",
    "        except (ValueError, OverflowError):\n",
    "            continue\n",
    "\n",
    "    df['parsed_dates'] = pd.Series(parsed_dates)\n",
    "    df = df.sort_values(by='parsed_dates')\n",
    "    df = df.reset_index()\n",
    "    return pd.Series(df['index'])\n",
    "\n",
    "# Call the function\n",
    "date_sorter()\n"
   ]
  },
  {
   "cell_type": "code",
   "execution_count": 63,
   "metadata": {
    "deletable": false,
    "editable": false,
    "nbgrader": {
     "cell_type": "code",
     "checksum": "0e2f5bb6bab79c07a81ec366c46c4d49",
     "grade": true,
     "grade_id": "cell-0ebae76e6cd794be",
     "locked": true,
     "points": 1,
     "schema_version": 3,
     "solution": false,
     "task": false
    }
   },
   "outputs": [
    {
     "data": {
      "text/plain": [
       "0      474\n",
       "1      153\n",
       "2      129\n",
       "3      225\n",
       "4      171\n",
       "      ... \n",
       "495     98\n",
       "496    111\n",
       "497     31\n",
       "498     36\n",
       "499     57\n",
       "Length: 500, dtype: int64"
      ]
     },
     "execution_count": 63,
     "metadata": {},
     "output_type": "execute_result"
    }
   ],
   "source": []
  }
 ],
 "metadata": {
  "coursera": {
   "course_slug": "python-text-mining",
   "graded_item_id": "LvcWI",
   "launcher_item_id": "krne9",
   "part_id": "Mkp1I"
  },
  "kernelspec": {
   "display_name": "Python 3 (ipykernel)",
   "language": "python",
   "name": "python3"
  },
  "language_info": {
   "codemirror_mode": {
    "name": "ipython",
    "version": 3
   },
   "file_extension": ".py",
   "mimetype": "text/x-python",
   "name": "python",
   "nbconvert_exporter": "python",
   "pygments_lexer": "ipython3",
   "version": "3.10.9"
  },
  "vscode": {
   "interpreter": {
    "hash": "aee8b7b246df8f9039afb4144a1f6fd8d2ca17a180786b69acc140d282b71a49"
   }
  }
 },
 "nbformat": 4,
 "nbformat_minor": 4
}
